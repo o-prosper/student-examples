{
 "cells": [
  {
   "cell_type": "markdown",
   "metadata": {},
   "source": [
    "# Example: Solving an Ordinary Differential Equation in Python\n",
    "In this notebook, we numerically solve the following SIS model using Python. \n",
    "\\begin{align}\n",
    "\\frac{dS}{dt}&=-\\beta S I + \\alpha I\\\\\n",
    "\\frac{dI}{dt}&=\\beta S I - \\alpha  I\\\\\n",
    "\\end{align}\n",
    "with the initial conditions $S(0)=S_0,~I(0)=I_0$.\n",
    "\n",
    "\n",
    "Later, you will add some additional cells to this notebook to numerically solve the following SIR model.\n",
    "\\begin{align}\n",
    "\\frac{dS}{dt}&=-\\beta S I \\\\\n",
    "\\frac{dI}{dt}&=\\beta S I - \\alpha  I\\\\\n",
    "\\frac{dR}{dt}&= \\alpha I \n",
    "\\end{align}\n",
    "with the initial conditions $S(0)=S_0,~I(0)=I_0,~R(0)=R_0$.\n",
    "\n",
    "\n"
   ]
  },
  {
   "cell_type": "markdown",
   "metadata": {},
   "source": [
    "To solve the ODE numerically and plot its solutions, we need to load to Python modules.  We do this using 'import'. When we write, for example, 'import numpy as np', this means we are importing the module called 'numpy', but we will be able to access its functions, etc., using the shorthand 'np'.  For example, if I want to create a numpy array, I can write np.array instead of numpy.array.\n",
    "\n",
    "*Task 1: Look up the following modules to get an idea for what they will be used for."
   ]
  },
  {
   "cell_type": "code",
   "execution_count": 1,
   "metadata": {},
   "outputs": [],
   "source": [
    "import numpy as np\n",
    "import sympy as sm\n",
    "\n",
    "import scipy as sp\n",
    "from scipy.integrate import solve_ivp\n",
    "\n",
    "import matplotlib as mp\n",
    "import matplotlib.pyplot as plt\n",
    "\n",
    "%matplotlib inline\n",
    "# enable pretty printing of equations\n",
    "sm.init_printing()"
   ]
  },
  {
   "cell_type": "markdown",
   "metadata": {},
   "source": [
    "First, we need to create a function that solves our ODE for a given set of parameters.  In the following cell, we define a function that computes the derivatives dS/dt and dI/dt that define the SIR model. The Python function 'def' is used to define your own functions."
   ]
  },
  {
   "cell_type": "code",
   "execution_count": 2,
   "metadata": {},
   "outputs": [],
   "source": [
    "# Define model equations in function dydt.  \n",
    "# It returns, as an array, the values of the RHS of the ODE at (t,y).\n",
    "def dydt(t, y, par):\n",
    "            \n",
    "    alpha = par[0]\n",
    "    beta  = par[1]\n",
    "\n",
    "    S = y[0]\n",
    "    I = y[1]\n",
    "    R = y[2]\n",
    "    \n",
    "    dS =  -beta*S*I \n",
    "    dI = beta*S*I - alpha*I\n",
    "    dR = alpha*I\n",
    "    \n",
    "    return np.array([dS,dI,dR])"
   ]
  },
  {
   "cell_type": "markdown",
   "metadata": {},
   "source": [
    "In the following cell, we define a function 'SolveModel' that numerically solves the model.\n",
    "The inputs to this function are:\n",
    "1. array of parameter values, par.\n",
    "2. range over which to compute the solution, tspan.\n",
    "3. array of intial conditions, init_cond\n",
    "4. array of timepoints at which to output the solution.\n",
    "\n",
    "The function returns the solution to the ODE, which is numerically computed using the function 'solve_ivp'."
   ]
  },
  {
   "cell_type": "code",
   "execution_count": 3,
   "metadata": {},
   "outputs": [],
   "source": [
    "def SolveModel(par,tspan,init_cond,t_eval):\n",
    "    \n",
    "    ode_soln = solve_ivp(dydt,\n",
    "                         tspan,\n",
    "                         init_cond,\n",
    "                         t_eval = t_eval,\n",
    "                         args = (par,))\n",
    "    return ode_soln"
   ]
  },
  {
   "cell_type": "markdown",
   "metadata": {},
   "source": [
    "To numerically compute the solution to our ODE, we need to set numeric values to the initial conditions and the model parameters."
   ]
  },
  {
   "cell_type": "code",
   "execution_count": 4,
   "metadata": {},
   "outputs": [],
   "source": [
    "# Define parameters\n",
    "beta = np.array ([0.0018, 0.0021, 0.0019, 0.0027, 0.0029, 0.0020, 0.0016, 0.0015, 0.0023, 0.0030])\n",
    "alpha = 0.476\n",
    "par = [alpha,beta]\n",
    "    \n",
    "# Define initial conditions\n",
    "N0 = 763\n",
    "I0 = 25\n",
    "R0 = 0\n",
    "S0 = N0 - I0 - R0\n",
    "init_cond = np.array([S0, I0, R0])\n",
    "tspan = (3,50)    \n",
    "t_eval = np.linspace(3., 50., 100)"
   ]
  },
  {
   "cell_type": "code",
   "execution_count": 8,
   "metadata": {},
   "outputs": [
    {
     "data": {
      "text/plain": [
       "([0.476,\n",
       "  array([0.0018, 0.0021, 0.0019, 0.0027, 0.0029, 0.002 , 0.0016, 0.0015,\n",
       "         0.0023, 0.003 ])],\n",
       " array([0.0018, 0.0021, 0.0019, 0.0027, 0.0029, 0.002 , 0.0016, 0.0015,\n",
       "        0.0023, 0.003 ]))"
      ]
     },
     "execution_count": 8,
     "metadata": {},
     "output_type": "execute_result"
    }
   ],
   "source": [
    "par, par[1]"
   ]
  },
  {
   "cell_type": "markdown",
   "metadata": {},
   "source": [
    "Now, we're ready to numerically solve our system of ODEs using the initial data and parameter values defined in the previous cell. The output of SolveModel is called a 'bunch object'.  The object's contents, which are the output times 't' and an array 'y' of the numerical solution at each time (each column of this array corresponds to a different state variable, in our case, $S$ and $I$). These outputs are \"dot-accessible\"; that is, they can be accessed using soln.t and soln.y as shown below. "
   ]
  },
  {
   "cell_type": "code",
   "execution_count": 11,
   "metadata": {},
   "outputs": [
    {
     "name": "stdout",
     "output_type": "stream",
     "text": [
      "0.0018\n",
      "0.0021\n",
      "0.0019\n",
      "0.0027\n",
      "0.0029\n",
      "0.002\n",
      "0.0016\n",
      "0.0015\n",
      "0.0023\n",
      "0.003\n"
     ]
    }
   ],
   "source": [
    "for i in par[1]:\n",
    "    print(i)\n",
    "    params = [par[0],i]\n",
    "    soln = SolveModel(params,tspan,init_cond,t_eval)\n",
    "    t = soln.t\n",
    "    S = soln.y[0]\n",
    "    I = soln.y[1]\n",
    "    R = soln.y[2]"
   ]
  },
  {
   "cell_type": "markdown",
   "metadata": {},
   "source": [
    "We can now plot the solutions to the SIR model."
   ]
  },
  {
   "cell_type": "code",
   "execution_count": 6,
   "metadata": {},
   "outputs": [],
   "source": [
    "\n"
   ]
  },
  {
   "cell_type": "code",
   "execution_count": 9,
   "metadata": {},
   "outputs": [
    {
     "data": {
      "image/png": "[encoded data removed]",
      "text/plain": [
       "<Figure size 432x288 with 1 Axes>"
      ]
     },
     "metadata": {
      "needs_background": "light"
     },
     "output_type": "display_data"
    }
   ],
   "source": [
    "plt.plot(t, I, c='darkorange',  linewidth=2,)\n",
    "plt.legend(fontsize=16)\n",
    "    \n",
    "xmin = t[0]\n",
    "xmax = t[-1]\n",
    "plt.xlim(xmin, xmax)\n",
    "    \n",
    "xmin = t[0]\n",
    "xmax = t[-1]\n",
    "plt.xlim(xmin, xmax)\n",
    "    \n",
    "plt.xlabel(\"Time, $t$\", fontsize=16)\n",
    "plt.ylabel(\"$I(t)$\",fontsize=16)\n",
    "\n",
    "# NOTE: if you want to save a figure, you can do so as follows.\n",
    "plt.savefig('SIRplot_test.png')"
   ]
  },
  {
   "cell_type": "code",
   "execution_count": 42,
   "metadata": {},
   "outputs": [
    {
     "data": {
      "text/plain": [
       "array([[1., 0.],\n",
       "       [2., 0.],\n",
       "       [3., 0.]])"
      ]
     },
     "execution_count": 42,
     "metadata": {},
     "output_type": "execute_result"
    }
   ],
   "source": [
    "Itest = np.zeros((3,2))\n",
    "Itest[:,0] = np.array([1,2,3])\n",
    "Itest\n",
    "# Itest2 = np.append(Itest,np.transpose(np.array([1,2,3]),axis=1))\n",
    "# Itest2\n",
    "# Itest = np.append()"
   ]
  },
  {
   "cell_type": "code",
   "execution_count": 22,
   "metadata": {},
   "outputs": [],
   "source": [
    "I1 = np.transpose(np.array([1,3,2]))"
   ]
  },
  {
   "cell_type": "code",
   "execution_count": 25,
   "metadata": {},
   "outputs": [
    {
     "ename": "AxisError",
     "evalue": "axis 1 is out of bounds for array of dimension 1",
     "output_type": "error",
     "traceback": [
      "\u001b[0;31m---------------------------------------------------------------------------\u001b[0m",
      "\u001b[0;31mAxisError\u001b[0m                                 Traceback (most recent call last)",
      "\u001b[0;32m<ipython-input-25-bb836a5eafc2>\u001b[0m in \u001b[0;36m<module>\u001b[0;34m\u001b[0m\n\u001b[0;32m----> 1\u001b[0;31m \u001b[0mI_array\u001b[0m \u001b[0;34m=\u001b[0m \u001b[0mnp\u001b[0m\u001b[0;34m.\u001b[0m\u001b[0mappend\u001b[0m\u001b[0;34m(\u001b[0m\u001b[0mI_array\u001b[0m\u001b[0;34m,\u001b[0m\u001b[0mI1\u001b[0m\u001b[0;34m,\u001b[0m\u001b[0;36m1\u001b[0m\u001b[0;34m)\u001b[0m\u001b[0;34m\u001b[0m\u001b[0;34m\u001b[0m\u001b[0m\n\u001b[0m",
      "\u001b[0;32m<__array_function__ internals>\u001b[0m in \u001b[0;36mappend\u001b[0;34m(*args, **kwargs)\u001b[0m\n",
      "\u001b[0;32m/opt/anaconda3/lib/python3.8/site-packages/numpy/lib/function_base.py\u001b[0m in \u001b[0;36mappend\u001b[0;34m(arr, values, axis)\u001b[0m\n\u001b[1;32m   4691\u001b[0m         \u001b[0mvalues\u001b[0m \u001b[0;34m=\u001b[0m \u001b[0mravel\u001b[0m\u001b[0;34m(\u001b[0m\u001b[0mvalues\u001b[0m\u001b[0;34m)\u001b[0m\u001b[0;34m\u001b[0m\u001b[0;34m\u001b[0m\u001b[0m\n\u001b[1;32m   4692\u001b[0m         \u001b[0maxis\u001b[0m \u001b[0;34m=\u001b[0m \u001b[0marr\u001b[0m\u001b[0;34m.\u001b[0m\u001b[0mndim\u001b[0m\u001b[0;34m-\u001b[0m\u001b[0;36m1\u001b[0m\u001b[0;34m\u001b[0m\u001b[0;34m\u001b[0m\u001b[0m\n\u001b[0;32m-> 4693\u001b[0;31m     \u001b[0;32mreturn\u001b[0m \u001b[0mconcatenate\u001b[0m\u001b[0;34m(\u001b[0m\u001b[0;34m(\u001b[0m\u001b[0marr\u001b[0m\u001b[0;34m,\u001b[0m \u001b[0mvalues\u001b[0m\u001b[0;34m)\u001b[0m\u001b[0;34m,\u001b[0m \u001b[0maxis\u001b[0m\u001b[0;34m=\u001b[0m\u001b[0maxis\u001b[0m\u001b[0;34m)\u001b[0m\u001b[0;34m\u001b[0m\u001b[0;34m\u001b[0m\u001b[0m\n\u001b[0m\u001b[1;32m   4694\u001b[0m \u001b[0;34m\u001b[0m\u001b[0m\n\u001b[1;32m   4695\u001b[0m \u001b[0;34m\u001b[0m\u001b[0m\n",
      "\u001b[0;32m<__array_function__ internals>\u001b[0m in \u001b[0;36mconcatenate\u001b[0;34m(*args, **kwargs)\u001b[0m\n",
      "\u001b[0;31mAxisError\u001b[0m: axis 1 is out of bounds for array of dimension 1"
     ]
    }
   ],
   "source": [
    "I_array = np.append(I_array,I1,1)"
   ]
  },
  {
   "cell_type": "code",
   "execution_count": 24,
   "metadata": {},
   "outputs": [
    {
     "data": {
      "text/plain": [
       "array([1., 3., 2., 1., 3., 2., 1., 3., 2.])"
      ]
     },
     "execution_count": 24,
     "metadata": {},
     "output_type": "execute_result"
    }
   ],
   "source": [
    "np.append(I_array,I1)"
   ]
  },
  {
   "cell_type": "code",
   "execution_count": 5,
   "metadata": {},
   "outputs": [],
   "source": []
  },
  {
   "cell_type": "code",
   "execution_count": null,
   "metadata": {},
   "outputs": [],
   "source": []
  }
 ],
 "metadata": {
  "kernelspec": {
   "display_name": "Python 3",
   "language": "python",
   "name": "python3"
  },
  "language_info": {
   "codemirror_mode": {
    "name": "ipython",
    "version": 3
   },
   "file_extension": ".py",
   "mimetype": "text/x-python",
   "name": "python",
   "nbconvert_exporter": "python",
   "pygments_lexer": "ipython3",
   "version": "3.7.3"
  }
 },
 "nbformat": 4,
 "nbformat_minor": 4
}
